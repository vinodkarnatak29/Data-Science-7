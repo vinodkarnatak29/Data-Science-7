{
 "cells": [
  {
   "cell_type": "code",
   "execution_count": 3,
   "metadata": {},
   "outputs": [
    {
     "name": "stdout",
     "output_type": "stream",
     "text": [
      "Sequence: [  3   5   7   2   8  10  11  65  72  81  99 100 150]\n",
      "Window size: 3\n",
      "Sequence count: 13\n",
      "Moving average: 11\n",
      "[  5.           4.66666667   5.66666667   6.66666667   9.66666667\n",
      "  28.66666667  49.33333333  72.66666667  84.          93.33333333\n",
      " 116.33333333]\n"
     ]
    }
   ],
   "source": [
    "#Problem Statement\n",
    "#Given a sequence of n values x1, x2, ..., xn and a window size k>0, the k-th moving average of the given sequence is defined as follows:\n",
    "#The moving average sequence has n-k+1 elements as shown below.\n",
    "#The moving averages with k=4 of a ten-value sequence (n=10) is shown below\n",
    "#i 1 2 3 4 5 6 7 8 9 10\n",
    "#===== == == == == == == == == == ==\n",
    "#Input 10 20 30 40 50 60 70 80 90 100\n",
    "#y1    25 = (10+20+30+40)/4\n",
    "#y2       35 = (20+30+40+50)/4\n",
    "#y3         45 = (30+40+50+60)/4\n",
    "#y4            55 = (40+50+60+70)/4\n",
    "#y5               65 = (50+60+70+80)/4\n",
    "#y6                   75 = (60+70+80+90)/4\n",
    "#y7                     85 = (70+80+90+100)/4\n",
    "#Thus, the moving average sequence has n-k+1=10-4+1=7 values.\n",
    "#Write a function to find moving average in an array over a window:\n",
    "#Test it over [3, 5, 7, 2, 8, 10, 11, 65, 72, 81, 99, 100, 150] and window of 3.\n",
    "\n",
    "\n",
    "## The running mean is a case of the mathematical operation of convolution. \n",
    "## For the running mean, you slide a window along the input and compute the mean of the window's contents.\n",
    "\n",
    "#import numpy module\n",
    "import numpy as np\n",
    "\n",
    "#define a function by passing data as well window size\n",
    "def movingAverage(dataSet, n):\n",
    "    w= np.ones(n) / n\n",
    "    return np.convolve(dataSet, w, mode='valid')\n",
    "\n",
    "#data set to find moving average\n",
    "data = np.array([3, 5, 7, 2, 8, 10, 11, 65, 72, 81, 99, 100, 150])\n",
    "print(\"Sequence:\", data)\n",
    "print(\"Window size:\", 3)\n",
    "print(\"Sequence count:\",data.size)\n",
    "print(\"Moving average:\",data.size-3+1)\n",
    "\n",
    "#Calling movingAverage() \n",
    "result = movingAverage(data, 3)\n",
    "print(result)"
   ]
  }
 ],
 "metadata": {
  "kernelspec": {
   "display_name": "Python 3",
   "language": "python",
   "name": "python3"
  },
  "language_info": {
   "codemirror_mode": {
    "name": "ipython",
    "version": 3
   },
   "file_extension": ".py",
   "mimetype": "text/x-python",
   "name": "python",
   "nbconvert_exporter": "python",
   "pygments_lexer": "ipython3",
   "version": "3.6.5"
  }
 },
 "nbformat": 4,
 "nbformat_minor": 2
}
